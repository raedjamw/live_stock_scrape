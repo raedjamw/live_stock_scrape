{
  "nbformat": 4,
  "nbformat_minor": 0,
  "metadata": {
    "colab": {
      "name": "Live_Stock_Price_Scraper",
      "provenance": []
    },
    "kernelspec": {
      "name": "python3",
      "display_name": "Python 3"
    }
  },
  "cells": [
    {
      "cell_type": "code",
      "metadata": {
        "id": "z8XQf1_P-DyH",
        "colab_type": "code",
        "colab": {}
      },
      "source": [
        "import numpy as np\n",
        "import pandas as pd\n",
        "import datetime as dt\n",
        "from pandas import DataFrame as df\n",
        "from bs4 import BeautifulSoup as BS\n",
        "from urllib.request import urlopen\n",
        "import time\n",
        "import sched, time"
      ],
      "execution_count": 0,
      "outputs": []
    },
    {
      "cell_type": "code",
      "metadata": {
        "id": "brsrqU9I-k1K",
        "colab_type": "code",
        "colab": {}
      },
      "source": [
        "def make_soup(url):\n",
        "  \"\"\"\n",
        "  soup function which returns the html code \n",
        "  of the specific page as a soup object.\n",
        "  it takes the desired url as input\n",
        "\n",
        "  \"\"\"\n",
        "  thepage =  urlopen(url)\n",
        "  soupdata = BS(thepage, \"html.parser\")\n",
        "  return soupdata"
      ],
      "execution_count": 0,
      "outputs": []
    },
    {
      "cell_type": "code",
      "metadata": {
        "id": "dmwo_0BUAM2B",
        "colab_type": "code",
        "colab": {}
      },
      "source": [
        "#Webscrape every hour\n",
        "scheduler = sched.scheduler(time.time, time.sleep)\n",
        "\n",
        "def print_event(val,start):\n",
        "    # Time\n",
        "    now = time.time()\n",
        "    # Time between runs\n",
        "    elapsed = int(now - start)\n",
        "    # Soup object\n",
        "    soup = make_soup('https://finance.yahoo.com/quote/MRK/')\n",
        "    # from the div object get the appropricate class and find the text of the span element\n",
        "    span = soup.find('div',{'class':\"My(6px) Pos(r) smartphone_Mt(6px)\"}).find('span').text\n",
        "    span = float(span)\n",
        "    mrk = pd.DataFrame(columns=['Time','Span','Value'])\n",
        "    MRK_Val = mrk.append({'Time':time.ctime(now),'Span':elapsed,'Value':span},ignore_index=True)\n",
        "    print(MRK_Val)\n",
        "\n",
        "#Start time\n",
        "start = time.time()\n",
        "print('START:', time.ctime(start))\n",
        "\n",
        "#Get 10 prices\n",
        "for i in range(0,9):\n",
        "  # get price every hour from the start time\n",
        "  scheduler.enter(i*3600, 1, print_event,(1,start))\n",
        "\n",
        "scheduler.run()"
      ],
      "execution_count": 0,
      "outputs": []
    }
  ]
}